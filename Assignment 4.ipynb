{
 "cells": [
  {
   "cell_type": "markdown",
   "id": "c9e5efac-cfd3-4a92-81ff-6a16ec2fa9bd",
   "metadata": {},
   "source": [
    "### DAY 1 Asssignment 4"
   ]
  },
  {
   "cell_type": "markdown",
   "id": "d7dbee23-1fd6-4426-9d7a-538d5a3dbf30",
   "metadata": {},
   "source": [
    "### -------------------------------------------------------------------------------------------------------------------------------"
   ]
  },
  {
   "cell_type": "markdown",
   "id": "ba25ebb8-778a-4886-9d2d-2ba73cca020e",
   "metadata": {},
   "source": [
    "### 1. What exactly is [ ]?\n",
    "    it is a syntax for creating a list.\n",
    "    empty_list = []\n",
    "    myList = ['Goodmorning', \"Partheev\", \"Sameeksha\", 419]\n"
   ]
  },
  {
   "cell_type": "markdown",
   "id": "b23f817d-71d3-48e2-b9c6-2512d8f8c56c",
   "metadata": {},
   "source": [
    "### ----------------------------------------------------------------------------------------------------"
   ]
  },
  {
   "cell_type": "markdown",
   "id": "d39de42f",
   "metadata": {},
   "source": [
    "### 2. In a list of values stored in a variable called spam, how would you assign the value 'hello' as the third value? (Assume [2, 4, 6, 8, 10] are in spam.)"
   ]
  },
  {
   "cell_type": "code",
   "execution_count": 20,
   "id": "9f35c8aa-dc54-4d66-ae62-4c2c86af4b4c",
   "metadata": {},
   "outputs": [
    {
     "name": "stdout",
     "output_type": "stream",
     "text": [
      "[2, 4, 'hello', 8]\n"
     ]
    }
   ],
   "source": [
    "spam = [2,4,6,8]\n",
    "spam[2] = 'hello'\n",
    "print (spam)"
   ]
  }
 ],
 "metadata": {
  "kernelspec": {
   "display_name": "Python 3",
   "language": "python",
   "name": "python3"
  },
  "language_info": {
   "codemirror_mode": {
    "name": "ipython",
    "version": 3
   },
   "file_extension": ".py",
   "mimetype": "text/x-python",
   "name": "python",
   "nbconvert_exporter": "python",
   "pygments_lexer": "ipython3",
   "version": "3.12.3"
  }
 },
 "nbformat": 4,
 "nbformat_minor": 5
}
